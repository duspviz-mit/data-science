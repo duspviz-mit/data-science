{
 "cells": [
  {
   "cell_type": "code",
   "execution_count": null,
   "metadata": {
    "collapsed": true
   },
   "outputs": [],
   "source": [
    "# Introduction to Python "
   ]
  },
  {
   "cell_type": "markdown",
   "metadata": {},
   "source": [
    "#### Starting Steps\n",
    "\n",
    "We are going to open a notebook to be able to edit in Jupyter Notebook. To do so, we have to initialize the notebook through Anaconda.\n",
    "\n",
    "Open the Anaconda Prompt. You can click on the start button and find Anaconda/Anaconda Prompt or click the window button and type anaconda prompt.\n",
    "Once this opens, we can launch a Jupyter notebook.\n",
    "\n",
    "```sh\n",
    "\tjupyter notebook\n",
    "```"
   ]
  },
  {
   "cell_type": "markdown",
   "metadata": {
    "slideshow": {
     "slide_type": "slide"
    }
   },
   "source": [
    "Todays lecture:\n",
    "===============\n",
    "* introduction to Python / IPython\n",
    "    - Syntax\n",
    "    - Libraries\n",
    "    - Datatypes \n",
    "    - Data Structures\n",
    "    - Collections\n",
    "    - Loops\n",
    "    - Flow Control"
   ]
  },
  {
   "cell_type": "markdown",
   "metadata": {},
   "source": [
    "## 1. Python:\n"
   ]
  },
  {
   "cell_type": "markdown",
   "metadata": {},
   "source": [
    "<a href=\"https://www.python.org/\">Python</a> is an increasingly popular high-level programming language. It emphasizes legibility over highly complex structure. Python innately provides simple data structures allowing for easy data manipulation. Python provides a simple approach to object-oriented programming, which in turn allows for intuitive programming, and has resulted in a large user community that has created numerous libraries that extend the basic capacities of the language. \n",
    "\n",
    "Python is an \"interpretted\" language. This means that every Python command that is executed is actually translated to lower-level programming languages. Lower-level programming languages are very fast and powerful, but writing programs in these languages can be difficult.\n",
    "\n",
    "There are two main versions of Python, these are Python 2 and Python 3. Python 3 is newer, and remove bugs and idiosyncracies of Python 2, however Python 2 is still heavily used. While the fundamentals of the two versions are the same, there are some differences (mostly syntactical) between the two and unfortunately Python 3 is NOT backwards compatible, so always double check which version of Python is being used when you work with it. In this class, we are using Python 3.\n",
    "\n",
    "There are a number of great Python tutorials available on the web, some can be found here:\n",
    "</p>\n",
    "<ul>\n",
    "    <li>\n",
    "        <a href=\"https://docs.python.org/3/tutorial/\">Python Docs Tutorial</a>\n",
    "    </li>\n",
    "    <li>\n",
    "        <a href=\"http://docs.python-guide.org/en/latest/intro/learning/\">Python Guide to Tutorials</a>\n",
    "    </li>\n",
    "</ul>\n",
    "\n",
    "There are also some excellent Python textbooks and cookbooks. A simple Amazon search will reveal many. In particular, we recommend and are using the following from the MIT Press:\n",
    "</p>\n",
    "<ul>\n",
    "    <li>\n",
    "        <a href=\"https://www.amazon.com/Introduction-Computation-Programming-Using-Python/dp/0262529629/ref=sr_1_1?ie=UTF8&qid=1485962191&sr=8-1&keywords=Introduction+to+Computation+and+Programming+Using+Python\">Guttag, John. <em>Introduction to Computation and Programming Using Python</em>. Cambridge, MA: MIT, 2016. Print.</a>\n",
    "    </li>\n",
    "</ul>"
   ]
  },
  {
   "cell_type": "markdown",
   "metadata": {
    "slideshow": {
     "slide_type": "slide"
    }
   },
   "source": [
    "## 2. Jupyter Notebooks:\n",
    "\n",
    "![IPython](images/ipython.png \"IPython\")"
   ]
  },
  {
   "cell_type": "markdown",
   "metadata": {},
   "source": [
    "<p>\n",
    "A Jupyter Notebook (formerly called iPython) is a tool for interactively writing and executing Python code. It allows the programmer to easily write and test code by allowing snippets of code and their results to be displayed side-by-side. Each snippet of code is called a \"cell\". It promotes the ease of documentation by allowing some cells to contain text, html code, images, or even Latex. Jupyter is particularly useful for Big Data computation, as it allows for parallel processing.\n"
   ]
  },
  {
   "cell_type": "markdown",
   "metadata": {},
   "source": [
    "## 3. Python Libraries\n",
    "\n",
    "Python is a dynamically typed language. A language has dynamic typing when variable types are not predefined like in a compiled language; the type of a value is evaluated when the code is run, based on how you are attempting to use it. \n",
    "\n",
    "Dynamic typing and a number of other language specific characteristics, like readability and reusability, make it a very popular programming language with a large user community. However, Python on itself only provides a basic number of modules and functionality. In order to extend Python’s functionality, the active community has created a very large number of libraries. A library is a built-in or external module that can be imported into our current code to add functionality. Libraries usually take advantage of Object-Oriented-Programming, defining Python objects in additional scripts that can then be instantiated in our current code. \n",
    "\n",
    "Loading libraries into our current context can be expensive; for that reason, Python requires us to explicitly load the libraries that we want to use:\n",
    "\n",
    "```python\n",
    "import math\n",
    "```\n",
    "\n",
    "We can be more specific and import only specific classes or functions of the library:\n",
    "\n",
    "```python\n",
    "from math import pi\n",
    "```\n",
    "\n",
    "We can also change the name of the library when it gets imported:\n",
    "\n",
    "```python\n",
    "import matplotlib as plt\n",
    "```"
   ]
  },
  {
   "cell_type": "code",
   "execution_count": null,
   "metadata": {
    "collapsed": true,
    "slideshow": {
     "slide_type": "skip"
    }
   },
   "outputs": [],
   "source": [
    "# Import Libraries for use later in script\n",
    "from IPython.display import HTML\n",
    "import math\n",
    "import matplotlib\n",
    "import numpy as np\n",
    "\n",
    "# If you get an error message stating that \"No module named ... \", quit Python using quit()\n",
    "# After quiting, install the missing library using pip. For example, in the terminal, to\n",
    "# get matplotlib, type 'conda install matplotlib'"
   ]
  },
  {
   "cell_type": "markdown",
   "metadata": {},
   "source": [
    "#### 0. Comments\n",
    "\n",
    "Comments let you document your code and are not executed. They are very useful when sharing code, or even when going back to your own code after a while. It is good practice to comment your code. We can have single or multi line comments.\n",
    "\n",
    "Single-line comments start with the hash character, # , and extend to the end of the physical line. A comment may appear at the start of a line or following whitespace or code.\n",
    "\n",
    "Multiline comments are known as docstrings. They start with “”” and end with “””. \n"
   ]
  },
  {
   "cell_type": "code",
   "execution_count": null,
   "metadata": {},
   "outputs": [],
   "source": [
    "# Firstly, this is a single-line comment.\n",
    "\n",
    "\"\"\"\n",
    "This is a \n",
    "multiline\n",
    "comment\n",
    "\"\"\"\n",
    "\n",
    "print(\"Comments worked!\")"
   ]
  },
  {
   "cell_type": "markdown",
   "metadata": {},
   "source": [
    "## Jupyter Notebook Tips:\n",
    "    To get to know the shortcuts, type H (the best one is shift + enter to run a cell!)\n",
    "    A cell is running if you see In [*] next to the cell\n",
    "    Cells are numbered based on when they're run, so In[1], In[2], etc. \n",
    "    In[ ] means a cell hasn't been run"
   ]
  },
  {
   "cell_type": "markdown",
   "metadata": {},
   "source": [
    "## 4. Python Data Structures\n",
    "\n",
    "A data structure is a way of organizing data in the computer memory. Data structures can implement one or more particular data types (ADT).  Some data structures can be built based on a basic type or basic building block. Most languages allow more complicated composite types to be recursively constructed starting from basic types. \n",
    "\n",
    "#### 1. Variables\n",
    "\n",
    "Variables allow us to store results, functions or data, to later retrieve it through its name. They give our code persistence. Compared to other programming languages, you don’t have to explicitly define a variable name or its datatype beforehand; you can create variables on the fly! Variables can also be continuously redefined. Python emphasizes legibility, and good naming practices refer specifically to the type of data you are storing."
   ]
  },
  {
   "cell_type": "markdown",
   "metadata": {},
   "source": [
    "Whie you can define and assign variables (think of it as happening in the background) if you want to see the variable you need to tell the computer to show you it. Run the first block of code below and see what happens\n"
   ]
  },
  {
   "cell_type": "code",
   "execution_count": null,
   "metadata": {
    "collapsed": true
   },
   "outputs": [],
   "source": [
    "x = 4.0\n"
   ]
  },
  {
   "cell_type": "markdown",
   "metadata": {},
   "source": [
    "What's happening here is that in the background we have created a variable x and assigned the value 4.0 to it. However, we did not tell it to show us, or the function \"print\", the value. Let's try that again"
   ]
  },
  {
   "cell_type": "code",
   "execution_count": null,
   "metadata": {},
   "outputs": [],
   "source": [
    "# We can define variables without having to declare their type. We can name it whatever we want.\n",
    "x = 4.0\n",
    "x\n",
    "print(x)\n",
    "print(x*2)"
   ]
  },
  {
   "cell_type": "code",
   "execution_count": null,
   "metadata": {
    "collapsed": true
   },
   "outputs": [],
   "source": [
    "# you can change the value of x as often as you want.\n",
    "x = 3\n",
    "print(x)\n",
    "x = x+2\n",
    "print(x)"
   ]
  },
  {
   "cell_type": "code",
   "execution_count": null,
   "metadata": {
    "collapsed": true
   },
   "outputs": [],
   "source": [
    "# the following retrieves the value stored in x, adds 2 to it, \n",
    "# and stores the result in x.\n",
    "x+=2\n",
    "print(x)\n",
    "x-=10\n",
    "print(x)"
   ]
  },
  {
   "cell_type": "code",
   "execution_count": null,
   "metadata": {},
   "outputs": [],
   "source": [
    "division=5/6\n",
    "print(division)\n",
    "print(type(division))"
   ]
  },
  {
   "cell_type": "markdown",
   "metadata": {},
   "source": [
    "#### 2. Numeric Types and Their Methods\n",
    "Python implements four distinct numeric types: plain integers, long integers, floating point numbers, and complex numbers. In addition, Booleans are a subtype of plain integers.\n",
    "\n",
    "Variables can be defined based on constructing a numeric data type. Every time we define a variable with a number, we are constructing an instance of the datatype. Different datatypes have different constructors; to construct a numeric data type, you only need to type it! In general, numeric types (and data types) have methods and properties. Properties allow you to access specific data of a given object, and methods allow you to do operations with them."
   ]
  },
  {
   "cell_type": "code",
   "execution_count": null,
   "metadata": {
    "collapsed": true
   },
   "outputs": [],
   "source": [
    "# Integers (int) are a numerical data-type. \n",
    "print(1+2)\n",
    "print(type(1+2))"
   ]
  },
  {
   "cell_type": "code",
   "execution_count": null,
   "metadata": {
    "collapsed": true
   },
   "outputs": [],
   "source": [
    "# Floats are another numeric type that allows for fractions.\n",
    "print(1.0+.5)"
   ]
  },
  {
   "cell_type": "code",
   "execution_count": null,
   "metadata": {
    "collapsed": true
   },
   "outputs": [],
   "source": [
    "print(3.0-2.0)"
   ]
  },
  {
   "cell_type": "code",
   "execution_count": null,
   "metadata": {
    "collapsed": true
   },
   "outputs": [],
   "source": [
    "print(6*5.0)\n",
    "print(6*5)"
   ]
  },
  {
   "cell_type": "code",
   "execution_count": null,
   "metadata": {},
   "outputs": [],
   "source": [
    "print(7.0/2.0)\n",
    "print(7/2)"
   ]
  },
  {
   "cell_type": "code",
   "execution_count": null,
   "metadata": {
    "collapsed": true
   },
   "outputs": [],
   "source": [
    "print(type(1.0+5))"
   ]
  },
  {
   "cell_type": "markdown",
   "metadata": {},
   "source": [
    "Notice integer division and floating-point error below!"
   ]
  },
  {
   "cell_type": "code",
   "execution_count": null,
   "metadata": {},
   "outputs": [],
   "source": [
    "1/2,1/2.0,3*3.2"
   ]
  },
  {
   "cell_type": "markdown",
   "metadata": {},
   "source": [
    "#### 3. Strings:\n",
    "Strings are sets of characters. We can create them by enclosing characters in quotes. Python treats single quotes the same as double quotes.\n",
    "\n",
    "Strings could be thought of as a list of characters. Therefore, we can access substrings, by using a similar syntax to the one of lists. They also have a number of methods or operations that we can perform with them. \n"
   ]
  },
  {
   "cell_type": "code",
   "execution_count": null,
   "metadata": {},
   "outputs": [],
   "source": [
    "# A string is sequence of characters. \n",
    "print(\"Hello World.\")\n",
    "\n",
    "# Let's store a string in a variable called \"s\".\n",
    "# Note that using ' and \" to define strings are interchangeable.\n",
    "string = 'This is a string.'\n",
    "print(string)"
   ]
  },
  {
   "cell_type": "code",
   "execution_count": null,
   "metadata": {
    "collapsed": true
   },
   "outputs": [],
   "source": [
    "# We can access individual characters from the string. Python stores the string like an array, think of it as [S, t, r, i, n, g]\n",
    "# like a list of characters\n",
    "print(string[2])"
   ]
  },
  {
   "cell_type": "code",
   "execution_count": null,
   "metadata": {},
   "outputs": [],
   "source": [
    "# You can add strings together\n",
    "string = string + \" Another string.\"\n",
    "print(string)"
   ]
  },
  {
   "cell_type": "code",
   "execution_count": null,
   "metadata": {
    "collapsed": true
   },
   "outputs": [],
   "source": [
    "string+=\" A third string.\"\n",
    "print(string)"
   ]
  },
  {
   "cell_type": "markdown",
   "metadata": {},
   "source": [
    "#### 4. Booleans\n",
    "Booleans are binary datatypes. They have 2 values: **True** and **False** (or 1 and 0). Booleans are useful when testing for truth value; we can test them in an **if** or **while** condition or as operand of Boolean operations. "
   ]
  },
  {
   "cell_type": "code",
   "execution_count": null,
   "metadata": {},
   "outputs": [],
   "source": [
    "# booleans, or bools, are another data type. They can hold only two \n",
    "# possible values: True or False.\n",
    "is_true = True\n",
    "print(is_true)"
   ]
  },
  {
   "cell_type": "code",
   "execution_count": null,
   "metadata": {},
   "outputs": [],
   "source": [
    "# There are several functions that act on booleans.\n",
    "# Let x and y be variables storing booleans.\n",
    "# \"Not x\" switches the value of x. If x is True, then \"not x\" is False.\n",
    "# \"x and y\" returns True if x and y are True.\n",
    "# \"x or y\" returns True if x or y are True.\n",
    "x = True\n",
    "y = False\n",
    "print(x)"
   ]
  },
  {
   "cell_type": "code",
   "execution_count": null,
   "metadata": {},
   "outputs": [],
   "source": [
    "print(not x)"
   ]
  },
  {
   "cell_type": "code",
   "execution_count": null,
   "metadata": {},
   "outputs": [],
   "source": [
    "print(x and y)"
   ]
  },
  {
   "cell_type": "code",
   "execution_count": null,
   "metadata": {},
   "outputs": [],
   "source": [
    "print(x and not y)"
   ]
  },
  {
   "cell_type": "code",
   "execution_count": null,
   "metadata": {},
   "outputs": [],
   "source": [
    "print(x or y)"
   ]
  },
  {
   "cell_type": "code",
   "execution_count": null,
   "metadata": {
    "collapsed": true
   },
   "outputs": [],
   "source": [
    "print(not x or y)"
   ]
  },
  {
   "cell_type": "code",
   "execution_count": null,
   "metadata": {},
   "outputs": [],
   "source": []
  },
  {
   "cell_type": "markdown",
   "metadata": {},
   "source": [
    "###### 5. Operators \n",
    "Operators and operands are something you're familiar with by now - they're special tokens that represent computations like addition, multiplication and division. The values the operators work on are operands. The common ones are +, -, *, **, /\n",
    "Less common operators include:\n",
    "// for integar division\n",
    "% modulus which returns the remainder when the first operand is divided by the second. You would use this if you wanted a remainder of zero, if you wanted x to be divisible by y. "
   ]
  },
  {
   "cell_type": "code",
   "execution_count": null,
   "metadata": {},
   "outputs": [],
   "source": [
    "#Let's use these less common operators to see why one would need to.\n",
    "# How would you convert total number of seconds to minutes, second format?\n",
    "total_secs = 7684\n",
    "#here we can use integar division to get hours, there are 3600 seconds in an hour\n",
    "hours = total_secs // 3600\n",
    "print(hours)"
   ]
  },
  {
   "cell_type": "code",
   "execution_count": null,
   "metadata": {},
   "outputs": [],
   "source": [
    "#next we can use modulus of  to take the remainder and find minutes\n",
    "secs_still_remaining = total_secs % 3600\n",
    "print(secs_still_remaining)"
   ]
  },
  {
   "cell_type": "code",
   "execution_count": null,
   "metadata": {},
   "outputs": [],
   "source": [
    "#we use integar division again to find the number of minutes\n",
    "minutes =  secs_still_remaining // 60\n",
    "print(minutes)"
   ]
  },
  {
   "cell_type": "code",
   "execution_count": null,
   "metadata": {},
   "outputs": [],
   "source": [
    "#we use modulus again to find the remaining number of seconds\n",
    "secs_finally_remaining = secs_still_remaining  % 60\n",
    "print(secs_finally_remaining)"
   ]
  },
  {
   "cell_type": "code",
   "execution_count": null,
   "metadata": {},
   "outputs": [],
   "source": [
    "#now lets put if all together\n",
    "print(total_secs, \"seconds equals\", hours, \"hours\", minutes, \"minutes and\", secs_finally_remaining, \"seconds!\")"
   ]
  },
  {
   "cell_type": "markdown",
   "metadata": {},
   "source": [
    "###### 6. Comparisons \n",
    "A lot of programming is comparing values, so we've already been using comparisons in the code we've written. A couple key distinctions are that '=' is for assignment and '==' is for testing for equality. \n",
    "As we've done already when we say x = 1 we are assigning the value 1 to x. If we want to test if x is 1 we would use ==\n",
    "\n",
    "When testing for equality or any other comparison (<, >, !=) we are asking a question so the result is true or false. \n",
    "1 == 1 is asking is 1 exactly equal to 1? So the response would be true. "
   ]
  },
  {
   "cell_type": "code",
   "execution_count": null,
   "metadata": {
    "collapsed": true
   },
   "outputs": [],
   "source": [
    "# There are functions to make comparisons between valuables and produce bools. \n",
    "# '==' tests for equality\n",
    "print(1 == 2)\n",
    "print(1 == 1)"
   ]
  },
  {
   "cell_type": "code",
   "execution_count": null,
   "metadata": {
    "collapsed": true
   },
   "outputs": [],
   "source": [
    "# '!=' tests for inequality\n",
    "print(1 != 2)\n",
    "# comparison functions also apply to strings\n",
    "print(\"abcd\" == \"abcd\")"
   ]
  },
  {
   "cell_type": "code",
   "execution_count": null,
   "metadata": {
    "collapsed": true
   },
   "outputs": [],
   "source": [
    "# Pointers and their values can be compared.\n",
    "x = 1\n",
    "y = 2\n",
    "# compare values of pointers\n",
    "print(x == y)"
   ]
  },
  {
   "cell_type": "code",
   "execution_count": null,
   "metadata": {
    "collapsed": true
   },
   "outputs": [],
   "source": [
    "# set x and y to be the same pointer \n",
    "x = y\n",
    "print(x)\n",
    "print(y)\n",
    "# check if x and y are THE SAME POINTER using the 'is' function.\n",
    "print(x is y)"
   ]
  },
  {
   "cell_type": "markdown",
   "metadata": {},
   "source": [
    "###### 7. Flow Control\n",
    "Python is an imperative programming language. In computer science, imperative programming is a programming paradigm that uses statements that change a program's state. The different states are executed based on a number of rules. We can control the flow of the program through a number of structures. In python there are three main categories of program control flow:\n",
    "\n",
    "* loops\n",
    "* branches\n",
    "* function calls\n",
    "\n",
    "Booleans can be used to control the flow of execution of the code. If-statements execute a section of code if a given bool evaluates to True. There is a specific syntax for booleans, including indentations. "
   ]
  },
  {
   "cell_type": "code",
   "execution_count": null,
   "metadata": {},
   "outputs": [],
   "source": [
    "flag = True\n",
    "x = 0\n",
    "if flag:\n",
    "    x = 1\n",
    "    print(\"Flag is True.\")\n",
    "else:\n",
    "    x = 2\n",
    "    print(\"Flag is False.\")\n",
    "print(x)\n",
    "# We can check for other cases as well. Controlling the execution of code\n",
    "# like this is referred to as \"flow of control\".\n",
    "if x == 0:\n",
    "    print(\"A\")\n",
    "elif x == 1:\n",
    "    print('B')\n",
    "else:\n",
    "    print(\"C\")"
   ]
  },
  {
   "cell_type": "markdown",
   "metadata": {},
   "source": [
    "#### 7. Lists \n",
    "Lists are a data structure designed for easy storage and access to data. They are initialized using by using \"**[ ]**\" to enclose a comma separated sequence of values. These values can be anything. Lists can contain the same type of values, or a heterogeneous mix of values.  We can access individual elements of a list, a subset of elements, or the whole list. Lists are mutable: we can modify their elements.\n",
    "\n",
    "Python deals with multiple data structures in a similar manner. For example lists, dictionaries, files, and and iterators work similarly.\n"
   ]
  },
  {
   "cell_type": "code",
   "execution_count": null,
   "metadata": {},
   "outputs": [],
   "source": [
    "L1 = [] # an empty list\n",
    "x = 5\n",
    "L2 = [1,2.0,'a',\"abcd\",True,x] # a list containing different values\n",
    "# lists can be built dynamically (aka on the fly) using \"append\" and \n",
    "# \"extend\".\n",
    "L1.append(1)\n",
    "L1.append(2)\n",
    "print(L1)\n",
    "L3 = ['a','b','c']\n",
    "L1.extend(L3)\n",
    "L1.append(L3)\n",
    "print(L1)\n",
    "# Values stored in lists are accessible by their index in the list. \n",
    "# Lists maintain the ordering in which values were stored in them.\n",
    "# We use \"[i]\" to retrieve the i-th element in a list.\n",
    "# Note that the first element in a list in Python has index 0.\n",
    "L = ['a','b','c','d','e']\n",
    "print(L[0])\n",
    "print(L[1])\n",
    "# We can access from the ends of lists as well.\n",
    "print(L[-1])\n",
    "print(L[-2])\n",
    "# We can access chunks of a list to produce sub-lists.\n",
    "print(L[:2])\n",
    "print(L[2:4])\n",
    "#print [1,2]+['a','b']\n",
    "# There is a useful function for producing sequences of numbers.\n",
    "print(range(10))\n",
    "print(range(2,10))\n",
    "print(range(4,10,2))\n",
    "# The length of a list can be calculated using \"len()\"\n",
    "print(len(range(10)))"
   ]
  },
  {
   "cell_type": "markdown",
   "metadata": {},
   "source": [
    "Lists can also be constructed through a functional programming idiom called list comprehension."
   ]
  },
  {
   "cell_type": "code",
   "execution_count": null,
   "metadata": {},
   "outputs": [],
   "source": [
    "alist=[1,2,3,4,5]\n",
    "asquaredlist=[i*i for i in alist]\n",
    "asquaredlist"
   ]
  },
  {
   "cell_type": "markdown",
   "metadata": {},
   "source": [
    "#### 8. Iteration\n",
    "Loops allow us to automate repetitive tasks. The repeated execution of a set of statements is called iteration. There are a number of way to iterate in Python. We can use **for** loops or **while** loops too. The syntax is like the syntax of if-statements. The **for** loop loops over each of the elements of a list or iterator, assigning the current element to the variable name given. A **while** loop repeats a sequence of statements until some condition becomes false. \n"
   ]
  },
  {
   "cell_type": "code",
   "execution_count": null,
   "metadata": {},
   "outputs": [],
   "source": [
    "X = range(10)\n",
    "print(X)"
   ]
  },
  {
   "cell_type": "code",
   "execution_count": null,
   "metadata": {},
   "outputs": [],
   "source": [
    "for x in X:\n",
    "    print(x)"
   ]
  },
  {
   "cell_type": "code",
   "execution_count": null,
   "metadata": {},
   "outputs": [],
   "source": [
    "for i in X:\n",
    "    # doubles the list element\n",
    "    print(X[i]*2)\n",
    "\n",
    "print(X)"
   ]
  },
  {
   "cell_type": "markdown",
   "metadata": {},
   "source": [
    "We can control the execution of a loop through different statements. Python includes statements to exit a loop prematurely. To exit a loop, use the **break** statement. The loop below is a for loop."
   ]
  },
  {
   "cell_type": "code",
   "execution_count": null,
   "metadata": {},
   "outputs": [],
   "source": [
    "for i in range(10):\n",
    "    print(i)\n",
    "    if (i > 5):\n",
    "        break # breaks out of the loop when it gets a number higher than five"
   ]
  },
  {
   "cell_type": "markdown",
   "metadata": {},
   "source": [
    "While loops are also supported. **continue** continues to the next iteration of the loop skipping all the code below, while **break** breaks out of it."
   ]
  },
  {
   "cell_type": "code",
   "execution_count": null,
   "metadata": {},
   "outputs": [],
   "source": [
    "i=0\n",
    "while i < 10:\n",
    "    print(i)\n",
    "    i=i+1\n",
    "    if i < 5:\n",
    "        continue\n",
    "    else:\n",
    "        break"
   ]
  },
  {
   "cell_type": "markdown",
   "metadata": {},
   "source": [
    "You can iterate through lists."
   ]
  },
  {
   "cell_type": "code",
   "execution_count": null,
   "metadata": {},
   "outputs": [],
   "source": [
    "myList = [\"This\", \"is\", \"Python\"]\n",
    "for i in myList:\n",
    "    print(i) # print the value\n",
    "    print(myList.index(i)) # print the position of the value (index)\n"
   ]
  },
  {
   "cell_type": "markdown",
   "metadata": {},
   "source": [
    "Build a list that contains all the courses that you are taking this semester, and print them. Every time you print a course number add the phrase `In Spring 2017, I am taking:`"
   ]
  },
  {
   "cell_type": "code",
   "execution_count": null,
   "metadata": {
    "collapsed": true
   },
   "outputs": [],
   "source": [
    "# Your code here\n"
   ]
  },
  {
   "cell_type": "markdown",
   "metadata": {},
   "source": [
    "#### 9. Functions\n",
    "Functions allow a programmer to write reusable code to perform a single action. Functions provide better modularity for your application and a high degree of code reusing. Once a function is defined, it can be called by typing the name of the function and passing the arguments. For example, Python gives you many built-in functions like **print()**.  Functions can just perform an operation, or they can return values.\n",
    "\n",
    "Functions are defined using the key work **def**.\n"
   ]
  },
  {
   "cell_type": "code",
   "execution_count": null,
   "metadata": {},
   "outputs": [],
   "source": [
    "#consider this example:\n",
    "# First choose an initial value for x.\n",
    "x = 0\n",
    "for i in range(100):\n",
    "    x+=i\n",
    "print(x)\n",
    "\n",
    "# What if we do this for a new initial value for x? \n",
    "# What if we use a different number instead of 100?\n",
    "# We don't want to rewrite this for loop every time. \n",
    "# Let's define a function.\n",
    "def ForSum(x,y):\n",
    "    for i in range(y):\n",
    "        x+=i\n",
    "    # \"return\" indicates what values to output\n",
    "    return x\n",
    "\n",
    "# Same calculation from above\n",
    "print(ForSum(0,100))\n",
    "print(ForSum(10,50)) # Now with new numbers\n",
    "\n",
    "# Interestingly, pointers can store functions. This means that functions\n",
    "# can be inputs to other functions.\n",
    "F = ForSum\n",
    "print(F(0,100))\n",
    "\n",
    "def execute(funct,x):\n",
    "    return funct(x,100)\n",
    "\n",
    "print(execute(F,10))\n",
    "\n",
    "# Now, just for fun:\n",
    "print(F(F(F(10,100),50),1000))"
   ]
  },
  {
   "cell_type": "code",
   "execution_count": null,
   "metadata": {},
   "outputs": [],
   "source": [
    "def print_words(x=\"THIS\",y=\"Not Bob\"):\n",
    "    print(x)\n",
    "    print(y)\n",
    "\n",
    "x = \"Bob\"\n",
    "y = \"Something else\"\n",
    "    \n",
    "print_words(x)"
   ]
  }
 ],
 "metadata": {
  "celltoolbar": "Raw Cell Format",
  "kernelspec": {
   "display_name": "Python 2",
   "language": "python",
   "name": "python2"
  },
  "language_info": {
   "codemirror_mode": {
    "name": "ipython",
    "version": 2
   },
   "file_extension": ".py",
   "mimetype": "text/x-python",
   "name": "python",
   "nbconvert_exporter": "python",
   "pygments_lexer": "ipython2",
   "version": "2.7.13"
  }
 },
 "nbformat": 4,
 "nbformat_minor": 1
}
